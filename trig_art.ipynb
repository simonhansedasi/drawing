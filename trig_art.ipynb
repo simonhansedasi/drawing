{
 "cells": [
  {
   "cell_type": "code",
   "execution_count": null,
   "id": "8bb22e84-a51d-4469-bb94-2863f333e7c9",
   "metadata": {
    "tags": []
   },
   "outputs": [],
   "source": [
    "import numpy as np\n",
    "import matplotlib.pyplot as plt\n",
    "from PIL import Image\n",
    "from io import BytesIO\n",
    "from IPython.display import Image as IPImage"
   ]
  },
  {
   "cell_type": "code",
   "execution_count": null,
   "id": "5f00cdb3-8c96-4b23-a329-e4e75132830c",
   "metadata": {
    "tags": []
   },
   "outputs": [],
   "source": [
    "def math_art(x, y, phase):\n",
    "    return (\n",
    "        np.tan(np.cos(np.sinh(x-y)/50+y+phase)) +\n",
    "        np.tan(np.cos(np.sinh(x+y)/50+x+phase)) \n",
    "    )"
   ]
  },
  {
   "cell_type": "code",
   "execution_count": null,
   "id": "2a1ec2ba-b71e-454e-bbae-f4967387bbba",
   "metadata": {
    "tags": []
   },
   "outputs": [],
   "source": [
    "x = np.linspace(-2*np.pi, 2*np.pi,300)\n",
    "y = np.linspace(-2*np.pi, 2*np.pi, 300)\n",
    "X, Y = np.meshgrid(x, y)\n",
    "\n",
    "frames = []\n",
    "phases = np.linspace(0, 2*np.pi, 25)"
   ]
  },
  {
   "cell_type": "code",
   "execution_count": null,
   "id": "bcb87151-3209-41ab-82e7-53d265e480bd",
   "metadata": {
    "tags": []
   },
   "outputs": [],
   "source": [
    "for phase in phases:\n",
    "    Z = math_art(X, Y, phase)\n",
    "    \n",
    "    fig, ax = plt.subplots(figsize=(8, 6), dpi=100)\n",
    "    ax.contourf(X, Y, Z, cmap='autumn')\n",
    "    ax.set_xticks([])\n",
    "    ax.set_yticks([])\n",
    "    ax.set_aspect('equal')\n",
    "    ax.axis('off') \n",
    "    plt.subplots_adjust(left=0, right=1, top=1, bottom=0)\n",
    "    \n",
    "    buf = BytesIO()\n",
    "    fig.savefig(buf, format='png', bbox_inches='tight', pad_inches=0, transparent=True)\n",
    "    buf.seek(0)\n",
    "    \n",
    "    image = Image.open(buf)\n",
    "    \n",
    "    image = image.convert('RGB')\n",
    "    bbox = image.getbbox()\n",
    "    image = image.crop(bbox)\n",
    "    \n",
    "    frames.append(image)\n",
    "    plt.close(fig)"
   ]
  },
  {
   "cell_type": "code",
   "execution_count": null,
   "id": "6bdf588c-9c8b-462c-8371-45bb8631216e",
   "metadata": {
    "tags": []
   },
   "outputs": [],
   "source": [
    "gif_filename = 'rotating_math_art.gif'\n",
    "frames[0].save(gif_filename, save_all=True, append_images=frames[1:], duration=100, loop=0)"
   ]
  },
  {
   "cell_type": "code",
   "execution_count": null,
   "id": "1bc554dc-e4c6-43d1-a425-8964b3a30a0e",
   "metadata": {
    "tags": []
   },
   "outputs": [],
   "source": [
    "IPImage(filename=gif_filename)"
   ]
  }
 ],
 "metadata": {
  "kernelspec": {
   "display_name": "Python 3 (ipykernel)",
   "language": "python",
   "name": "python3"
  },
  "language_info": {
   "codemirror_mode": {
    "name": "ipython",
    "version": 3
   },
   "file_extension": ".py",
   "mimetype": "text/x-python",
   "name": "python",
   "nbconvert_exporter": "python",
   "pygments_lexer": "ipython3",
   "version": "3.7.6"
  }
 },
 "nbformat": 4,
 "nbformat_minor": 5
}
