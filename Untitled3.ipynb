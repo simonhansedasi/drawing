{
 "cells": [
  {
   "cell_type": "code",
   "execution_count": 2,
   "metadata": {},
   "outputs": [],
   "source": [
    "def z(n,c):\n",
    "    if n == 0:\n",
    "        return 0\n",
    "    else:\n",
    "        return z(n-1,c)**2 + c"
   ]
  },
  {
   "cell_type": "code",
   "execution_count": 3,
   "metadata": {},
   "outputs": [
    {
     "name": "stdout",
     "output_type": "stream",
     "text": [
      "z(0) = 0\n",
      "z(1) = 1\n",
      "z(2) = 2\n",
      "z(3) = 5\n",
      "z(4) = 26\n",
      "z(5) = 677\n",
      "z(6) = 458330\n",
      "z(7) = 210066388901\n",
      "z(8) = 44127887745906175987802\n",
      "z(9) = 1947270476915296449559703445493848930452791205\n"
     ]
    }
   ],
   "source": [
    "for n in range(10):\n",
    "    print(f'z({n}) = {z(n,c=1)}')"
   ]
  },
  {
   "cell_type": "code",
   "execution_count": 4,
   "metadata": {},
   "outputs": [],
   "source": [
    "def sequence(c):\n",
    "    z = 0\n",
    "    while True:\n",
    "        yield z\n",
    "        z = z**2 + c"
   ]
  },
  {
   "cell_type": "code",
   "execution_count": 5,
   "metadata": {},
   "outputs": [
    {
     "name": "stdout",
     "output_type": "stream",
     "text": [
      "z(0) = 0\n",
      "z(1) = 1\n",
      "z(2) = 2\n",
      "z(3) = 5\n",
      "z(4) = 26\n",
      "z(5) = 677\n",
      "z(6) = 458330\n",
      "z(7) = 210066388901\n",
      "z(8) = 44127887745906175987802\n",
      "z(9) = 1947270476915296449559703445493848930452791205\n"
     ]
    }
   ],
   "source": [
    "for n,z in enumerate(sequence(c = 1)):\n",
    "    print(f'z({n}) = {z}')\n",
    "    if n >= 9:\n",
    "        break"
   ]
  },
  {
   "cell_type": "code",
   "execution_count": 6,
   "metadata": {},
   "outputs": [],
   "source": [
    "def mandelbrot(candidate):\n",
    "    return sequence(z=0, c=candidate)\n",
    "\n",
    "def julia(candidate, parameter):\n",
    "    return sequence(z=candidate, c=parameter)"
   ]
  },
  {
   "cell_type": "code",
   "execution_count": 7,
   "metadata": {},
   "outputs": [],
   "source": [
    "import numpy as np\n",
    "\n",
    "def complex_matrix(xmin, xmax, ymin, ymax, pixel_density):\n",
    "    re = np.linspace(xmin, xmax, int((xmax - xmin) * pixel_density))\n",
    "    im = np.linspace(ymin, ymax, int((ymax - ymin) * pixel_density))\n",
    "    return re[np.newaxis, :] + im[:, np.newaxis] * 1j"
   ]
  },
  {
   "cell_type": "code",
   "execution_count": 8,
   "metadata": {},
   "outputs": [],
   "source": [
    "def is_stable(c, num_iterations):\n",
    "    z = 0\n",
    "    for _ in range(num_iterations):\n",
    "        z = z ** 2 + c\n",
    "    return abs(z) <= 2"
   ]
  },
  {
   "cell_type": "code",
   "execution_count": 9,
   "metadata": {},
   "outputs": [],
   "source": [
    "def get_members(c, num_iterations):\n",
    "    mask = is_stable(c, num_iterations)\n",
    "    return c[mask]"
   ]
  },
  {
   "cell_type": "code",
   "execution_count": 10,
   "metadata": {},
   "outputs": [],
   "source": [
    "import matplotlib.pyplot as plt\n",
    "import numpy as np\n",
    "\n",
    "np.warnings.filterwarnings(\"ignore\")"
   ]
  },
  {
   "cell_type": "code",
   "execution_count": 11,
   "metadata": {},
   "outputs": [
    {
     "data": {
      "image/png": "[encoded data removed]",
      "text/plain": [
       "<Figure size 432x288 with 1 Axes>"
      ]
     },
     "metadata": {
      "needs_background": "light"
     },
     "output_type": "display_data"
    }
   ],
   "source": [
    "c = complex_matrix(-2, 0.5, -1.5, 1.5, pixel_density=21)\n",
    "members = get_members(c, num_iterations=20)\n",
    "\n",
    "plt.scatter(members.real, members.imag, color=\"black\", marker=\",\", s=1)\n",
    "plt.gca().set_aspect(\"equal\")\n",
    "plt.axis(\"off\")\n",
    "plt.tight_layout()\n",
    "plt.show()"
   ]
  },
  {
   "cell_type": "code",
   "execution_count": 12,
   "metadata": {},
   "outputs": [
    {
     "data": {
      "image/png": "[encoded data removed]",
      "text/plain": [
       "<Figure size 432x288 with 1 Axes>"
      ]
     },
     "metadata": {
      "needs_background": "light"
     },
     "output_type": "display_data"
    }
   ],
   "source": [
    "c = complex_matrix(-2, 0.5, -1.5, 1.5, pixel_density=512)\n",
    "plt.imshow(is_stable(c, num_iterations=20), cmap=\"binary\")\n",
    "plt.gca().set_aspect(\"equal\")\n",
    "plt.axis(\"off\")\n",
    "plt.tight_layout()\n",
    "plt.show()"
   ]
  },
  {
   "cell_type": "code",
   "execution_count": null,
   "metadata": {},
   "outputs": [],
   "source": []
  }
 ],
 "metadata": {
  "kernelspec": {
   "display_name": "Python 3",
   "language": "python",
   "name": "python3"
  },
  "language_info": {
   "codemirror_mode": {
    "name": "ipython",
    "version": 3
   },
   "file_extension": ".py",
   "mimetype": "text/x-python",
   "name": "python",
   "nbconvert_exporter": "python",
   "pygments_lexer": "ipython3",
   "version": "3.7.6"
  }
 },
 "nbformat": 4,
 "nbformat_minor": 4
}
